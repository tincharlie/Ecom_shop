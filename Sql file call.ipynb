{
 "cells": [
  {
   "cell_type": "code",
   "execution_count": null,
   "id": "c74eef41",
   "metadata": {},
   "outputs": [],
   "source": []
  },
  {
   "cell_type": "code",
   "execution_count": 16,
   "id": "92201420",
   "metadata": {},
   "outputs": [],
   "source": [
    "import sqlite3\n",
    "import pandas as pd\n",
    "\n",
    "conn = sqlite3.connect('db.sqlite3') \n",
    "          \n",
    "sql_query = pd.read_sql_query('''SELECT * FROM store_customer''', conn)\n"
   ]
  },
  {
   "cell_type": "code",
   "execution_count": 17,
   "id": "79ce2d0a",
   "metadata": {},
   "outputs": [
    {
     "name": "stdout",
     "output_type": "stream",
     "text": [
      "   id first_name last_name        phone                   email\n",
      "0  10       mine    iddfff  08085414753          midi@gmail.com\n",
      "1  11    sandeep     yadav   4512789632       sandeep@gmail.com\n",
      "2  12  Rameshwar   Krishna   9999999999  ramapranipat@gmail.com\n",
      "3  13       relu  function   1234567894          relu@gmail.com\n",
      "4  14      sammy   kanguru   4498374598         sammy@gmail.com\n",
      "5  15     Sivang     rawat   6546546516        sivang@gmail.com\n"
     ]
    }
   ],
   "source": [
    "df = pd.DataFrame(sql_query,columns=[\"id\", \"first_name\", \"last_name\", \"phone\", \"email\"] )\n",
    "print(df)"
   ]
  },
  {
   "cell_type": "code",
   "execution_count": 18,
   "id": "ddb2b843",
   "metadata": {},
   "outputs": [],
   "source": [
    "df = pd.DataFrame(df)"
   ]
  },
  {
   "cell_type": "code",
   "execution_count": 19,
   "id": "39f7cf3b",
   "metadata": {},
   "outputs": [
    {
     "data": {
      "text/html": [
       "<div>\n",
       "<style scoped>\n",
       "    .dataframe tbody tr th:only-of-type {\n",
       "        vertical-align: middle;\n",
       "    }\n",
       "\n",
       "    .dataframe tbody tr th {\n",
       "        vertical-align: top;\n",
       "    }\n",
       "\n",
       "    .dataframe thead th {\n",
       "        text-align: right;\n",
       "    }\n",
       "</style>\n",
       "<table border=\"1\" class=\"dataframe\">\n",
       "  <thead>\n",
       "    <tr style=\"text-align: right;\">\n",
       "      <th></th>\n",
       "      <th>id</th>\n",
       "      <th>first_name</th>\n",
       "      <th>last_name</th>\n",
       "      <th>phone</th>\n",
       "      <th>email</th>\n",
       "    </tr>\n",
       "  </thead>\n",
       "  <tbody>\n",
       "    <tr>\n",
       "      <th>0</th>\n",
       "      <td>10</td>\n",
       "      <td>mine</td>\n",
       "      <td>iddfff</td>\n",
       "      <td>08085414753</td>\n",
       "      <td>midi@gmail.com</td>\n",
       "    </tr>\n",
       "    <tr>\n",
       "      <th>1</th>\n",
       "      <td>11</td>\n",
       "      <td>sandeep</td>\n",
       "      <td>yadav</td>\n",
       "      <td>4512789632</td>\n",
       "      <td>sandeep@gmail.com</td>\n",
       "    </tr>\n",
       "    <tr>\n",
       "      <th>2</th>\n",
       "      <td>12</td>\n",
       "      <td>Rameshwar</td>\n",
       "      <td>Krishna</td>\n",
       "      <td>9999999999</td>\n",
       "      <td>ramapranipat@gmail.com</td>\n",
       "    </tr>\n",
       "    <tr>\n",
       "      <th>3</th>\n",
       "      <td>13</td>\n",
       "      <td>relu</td>\n",
       "      <td>function</td>\n",
       "      <td>1234567894</td>\n",
       "      <td>relu@gmail.com</td>\n",
       "    </tr>\n",
       "    <tr>\n",
       "      <th>4</th>\n",
       "      <td>14</td>\n",
       "      <td>sammy</td>\n",
       "      <td>kanguru</td>\n",
       "      <td>4498374598</td>\n",
       "      <td>sammy@gmail.com</td>\n",
       "    </tr>\n",
       "  </tbody>\n",
       "</table>\n",
       "</div>"
      ],
      "text/plain": [
       "   id first_name last_name        phone                   email\n",
       "0  10       mine    iddfff  08085414753          midi@gmail.com\n",
       "1  11    sandeep     yadav   4512789632       sandeep@gmail.com\n",
       "2  12  Rameshwar   Krishna   9999999999  ramapranipat@gmail.com\n",
       "3  13       relu  function   1234567894          relu@gmail.com\n",
       "4  14      sammy   kanguru   4498374598         sammy@gmail.com"
      ]
     },
     "execution_count": 19,
     "metadata": {},
     "output_type": "execute_result"
    }
   ],
   "source": [
    "df.head()"
   ]
  },
  {
   "cell_type": "code",
   "execution_count": null,
   "id": "736b89f3",
   "metadata": {},
   "outputs": [],
   "source": []
  }
 ],
 "metadata": {
  "kernelspec": {
   "display_name": "Python 3",
   "language": "python",
   "name": "python3"
  },
  "language_info": {
   "codemirror_mode": {
    "name": "ipython",
    "version": 3
   },
   "file_extension": ".py",
   "mimetype": "text/x-python",
   "name": "python",
   "nbconvert_exporter": "python",
   "pygments_lexer": "ipython3",
   "version": "3.8.8"
  }
 },
 "nbformat": 4,
 "nbformat_minor": 5
}
